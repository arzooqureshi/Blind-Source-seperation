{
  "nbformat": 4,
  "nbformat_minor": 0,
  "metadata": {
    "colab": {
      "provenance": [],
      "gpuType": "T4",
      "authorship_tag": "ABX9TyPtNTEnDL4RN9FuY2Eqz34A",
      "include_colab_link": true
    },
    "kernelspec": {
      "name": "python3",
      "display_name": "Python 3"
    },
    "language_info": {
      "name": "python"
    },
    "accelerator": "GPU"
  },
  "cells": [
    {
      "cell_type": "markdown",
      "metadata": {
        "id": "view-in-github",
        "colab_type": "text"
      },
      "source": [
        "<a href=\"https://colab.research.google.com/github/arzooqureshi/Blind-Source-seperation/blob/master/Untitled1.ipynb\" target=\"_parent\"><img src=\"https://colab.research.google.com/assets/colab-badge.svg\" alt=\"Open In Colab\"/></a>"
      ]
    },
    {
      "cell_type": "code",
      "execution_count": 1,
      "metadata": {
        "colab": {
          "base_uri": "https://localhost:8080/"
        },
        "id": "9LtmofmAME6i",
        "outputId": "996cce1a-a27f-4f9e-e2e6-62a2a0d28092"
      },
      "outputs": [
        {
          "output_type": "stream",
          "name": "stdout",
          "text": [
            "Mounted at /content/drive\n"
          ]
        }
      ],
      "source": [
        "from google.colab import drive\n",
        "drive.mount('/content/drive')\n"
      ]
    },
    {
      "cell_type": "code",
      "source": [
        "!git clone https://github.com/MarvinTeichmann/KittiSeg.git"
      ],
      "metadata": {
        "colab": {
          "base_uri": "https://localhost:8080/"
        },
        "id": "HACYThSRMM4b",
        "outputId": "dc324402-3d2f-402f-8661-15b03c8603b1"
      },
      "execution_count": 2,
      "outputs": [
        {
          "output_type": "stream",
          "name": "stdout",
          "text": [
            "Cloning into 'KittiSeg'...\n",
            "remote: Enumerating objects: 926, done.\u001b[K\n",
            "remote: Total 926 (delta 0), reused 0 (delta 0), pack-reused 926\u001b[K\n",
            "Receiving objects: 100% (926/926), 11.84 MiB | 29.65 MiB/s, done.\n",
            "Resolving deltas: 100% (494/494), done.\n"
          ]
        }
      ]
    },
    {
      "cell_type": "code",
      "source": [
        "!pip install -r /content/KittiSeg/requirements.txt"
      ],
      "metadata": {
        "colab": {
          "base_uri": "https://localhost:8080/"
        },
        "id": "bB4a-1bEMapd",
        "outputId": "e7e65bc1-6980-4ebf-8cc4-305ab2cd9be2"
      },
      "execution_count": 3,
      "outputs": [
        {
          "output_type": "stream",
          "name": "stdout",
          "text": [
            "Requirement already satisfied: matplotlib>=1.5.1 in /usr/local/lib/python3.10/dist-packages (from -r /content/KittiSeg/requirements.txt (line 1)) (3.7.1)\n",
            "Requirement already satisfied: numpy>=1.11.1 in /usr/local/lib/python3.10/dist-packages (from -r /content/KittiSeg/requirements.txt (line 2)) (1.23.5)\n",
            "Requirement already satisfied: Pillow>=3.3.0 in /usr/local/lib/python3.10/dist-packages (from -r /content/KittiSeg/requirements.txt (line 3)) (9.4.0)\n",
            "Requirement already satisfied: scipy>=0.17.1 in /usr/local/lib/python3.10/dist-packages (from -r /content/KittiSeg/requirements.txt (line 4)) (1.11.4)\n",
            "Collecting commentjson>=0.6 (from -r /content/KittiSeg/requirements.txt (line 5))\n",
            "  Downloading commentjson-0.9.0.tar.gz (8.7 kB)\n",
            "  Preparing metadata (setup.py) ... \u001b[?25l\u001b[?25hdone\n",
            "Requirement already satisfied: contourpy>=1.0.1 in /usr/local/lib/python3.10/dist-packages (from matplotlib>=1.5.1->-r /content/KittiSeg/requirements.txt (line 1)) (1.2.0)\n",
            "Requirement already satisfied: cycler>=0.10 in /usr/local/lib/python3.10/dist-packages (from matplotlib>=1.5.1->-r /content/KittiSeg/requirements.txt (line 1)) (0.12.1)\n",
            "Requirement already satisfied: fonttools>=4.22.0 in /usr/local/lib/python3.10/dist-packages (from matplotlib>=1.5.1->-r /content/KittiSeg/requirements.txt (line 1)) (4.47.2)\n",
            "Requirement already satisfied: kiwisolver>=1.0.1 in /usr/local/lib/python3.10/dist-packages (from matplotlib>=1.5.1->-r /content/KittiSeg/requirements.txt (line 1)) (1.4.5)\n",
            "Requirement already satisfied: packaging>=20.0 in /usr/local/lib/python3.10/dist-packages (from matplotlib>=1.5.1->-r /content/KittiSeg/requirements.txt (line 1)) (23.2)\n",
            "Requirement already satisfied: pyparsing>=2.3.1 in /usr/local/lib/python3.10/dist-packages (from matplotlib>=1.5.1->-r /content/KittiSeg/requirements.txt (line 1)) (3.1.1)\n",
            "Requirement already satisfied: python-dateutil>=2.7 in /usr/local/lib/python3.10/dist-packages (from matplotlib>=1.5.1->-r /content/KittiSeg/requirements.txt (line 1)) (2.8.2)\n",
            "Collecting lark-parser<0.8.0,>=0.7.1 (from commentjson>=0.6->-r /content/KittiSeg/requirements.txt (line 5))\n",
            "  Downloading lark-parser-0.7.8.tar.gz (276 kB)\n",
            "\u001b[2K     \u001b[90m━━━━━━━━━━━━━━━━━━━━━━━━━━━━━━━━━━━━━━━━\u001b[0m \u001b[32m276.2/276.2 kB\u001b[0m \u001b[31m2.6 MB/s\u001b[0m eta \u001b[36m0:00:00\u001b[0m\n",
            "\u001b[?25h  Preparing metadata (setup.py) ... \u001b[?25l\u001b[?25hdone\n",
            "Requirement already satisfied: six>=1.5 in /usr/local/lib/python3.10/dist-packages (from python-dateutil>=2.7->matplotlib>=1.5.1->-r /content/KittiSeg/requirements.txt (line 1)) (1.16.0)\n",
            "Building wheels for collected packages: commentjson, lark-parser\n",
            "  Building wheel for commentjson (setup.py) ... \u001b[?25l\u001b[?25hdone\n",
            "  Created wheel for commentjson: filename=commentjson-0.9.0-py3-none-any.whl size=12072 sha256=a94f9ab06e37d3c3a6a94d6b026142ac6725fcd0867d8b3e4b79b21c011ac633\n",
            "  Stored in directory: /root/.cache/pip/wheels/7d/90/23/6358a234ca5b4ec0866d447079b97fedf9883387d1d7d074e5\n",
            "  Building wheel for lark-parser (setup.py) ... \u001b[?25l\u001b[?25hdone\n",
            "  Created wheel for lark-parser: filename=lark_parser-0.7.8-py2.py3-none-any.whl size=62511 sha256=bc13bb648363265b827bbde7b12a313a1914daa608d2a3085453caa8a75b4787\n",
            "  Stored in directory: /root/.cache/pip/wheels/29/30/94/33e8b58318aa05cb1842b365843036e0280af5983abb966b83\n",
            "Successfully built commentjson lark-parser\n",
            "Installing collected packages: lark-parser, commentjson\n",
            "Successfully installed commentjson-0.9.0 lark-parser-0.7.8\n"
          ]
        }
      ]
    },
    {
      "cell_type": "code",
      "source": [],
      "metadata": {
        "id": "0GIsI5fFMxRX",
        "colab": {
          "base_uri": "https://localhost:8080/"
        },
        "outputId": "0cefed1c-875f-482e-b612-5c9f07419138"
      },
      "execution_count": null,
      "outputs": [
        {
          "output_type": "stream",
          "name": "stdout",
          "text": [
            "2024-02-07 06:19:55.062818: E external/local_xla/xla/stream_executor/cuda/cuda_dnn.cc:9261] Unable to register cuDNN factory: Attempting to register factory for plugin cuDNN when one has already been registered\n",
            "2024-02-07 06:19:55.062883: E external/local_xla/xla/stream_executor/cuda/cuda_fft.cc:607] Unable to register cuFFT factory: Attempting to register factory for plugin cuFFT when one has already been registered\n",
            "2024-02-07 06:19:55.064330: E external/local_xla/xla/stream_executor/cuda/cuda_blas.cc:1515] Unable to register cuBLAS factory: Attempting to register factory for plugin cuBLAS when one has already been registered\n",
            "2024-02-07 06:19:55.072667: I tensorflow/core/platform/cpu_feature_guard.cc:182] This TensorFlow binary is optimized to use available CPU instructions in performance-critical operations.\n",
            "To enable the following instructions: AVX2 FMA, in other operations, rebuild TensorFlow with the appropriate compiler flags.\n",
            "2024-02-07 06:19:56.281853: W tensorflow/compiler/tf2tensorrt/utils/py_utils.cc:38] TF-TRT Warning: Could not find TensorRT\n",
            "2024-02-07 06:19:57,588 INFO NumExpr defaulting to 2 threads.\n",
            "Traceback (most recent call last):\n",
            "  File \"/content/KittiSeg/demo.py\", line 46, in <module>\n",
            "    flags = tf.app.flags\n",
            "AttributeError: module 'tensorflow' has no attribute 'app'\n"
          ]
        }
      ]
    },
    {
      "cell_type": "code",
      "source": [
        "cd /content/KittiSeg\n"
      ],
      "metadata": {
        "colab": {
          "base_uri": "https://localhost:8080/"
        },
        "id": "BLjw1skeM4I6",
        "outputId": "aa3378fc-1807-44a1-cc65-79d19604ca6d"
      },
      "execution_count": 4,
      "outputs": [
        {
          "output_type": "stream",
          "name": "stdout",
          "text": [
            "/content/KittiSeg\n"
          ]
        }
      ]
    },
    {
      "cell_type": "code",
      "source": [
        "!git pull"
      ],
      "metadata": {
        "colab": {
          "base_uri": "https://localhost:8080/"
        },
        "id": "NbqsJkE7P7ME",
        "outputId": "5bcaf941-0cd3-41b8-a57e-c7f577b7de2b"
      },
      "execution_count": 5,
      "outputs": [
        {
          "output_type": "stream",
          "name": "stdout",
          "text": [
            "Already up to date.\n"
          ]
        }
      ]
    },
    {
      "cell_type": "code",
      "source": [
        "!git submodule update --init --recursive"
      ],
      "metadata": {
        "colab": {
          "base_uri": "https://localhost:8080/"
        },
        "id": "w1LAvFbBP_Xu",
        "outputId": "e56ea323-8046-4988-a176-28dd3c9beafc"
      },
      "execution_count": 6,
      "outputs": [
        {
          "output_type": "stream",
          "name": "stdout",
          "text": [
            "Submodule 'submodules/TensorVision' (https://github.com/TensorVision/TensorVision.git) registered for path 'submodules/TensorVision'\n",
            "Submodule 'submodules/tensorflow-fcn' (https://github.com/MarvinTeichmann/tensorflow-fcn.git) registered for path 'submodules/tensorflow-fcn'\n",
            "Cloning into '/content/KittiSeg/submodules/TensorVision'...\n",
            "Cloning into '/content/KittiSeg/submodules/tensorflow-fcn'...\n",
            "Submodule path 'submodules/TensorVision': checked out '0f9a9c1cee19a7bf87f1e699f91df2a9a83c4a8b'\n",
            "Submodule path 'submodules/tensorflow-fcn': checked out '86e9c94d2185ce5c9bcb10f8c8cc44dfc2da8164'\n"
          ]
        }
      ]
    },
    {
      "cell_type": "code",
      "source": [
        "cd /content/KittiSeg/submodules/TensorVision\n"
      ],
      "metadata": {
        "colab": {
          "base_uri": "https://localhost:8080/"
        },
        "id": "zNTu-KIJQXVL",
        "outputId": "16530309-5cf3-4152-b0d9-72d42ed041fa"
      },
      "execution_count": 7,
      "outputs": [
        {
          "output_type": "stream",
          "name": "stdout",
          "text": [
            "/content/KittiSeg/submodules/TensorVision\n"
          ]
        }
      ]
    },
    {
      "cell_type": "code",
      "source": [
        "!python setup.py install"
      ],
      "metadata": {
        "colab": {
          "base_uri": "https://localhost:8080/"
        },
        "id": "aNjdVKaNQiez",
        "outputId": "91399677-f408-4c5c-a428-d1c8c57117d6"
      },
      "execution_count": 8,
      "outputs": [
        {
          "output_type": "stream",
          "name": "stdout",
          "text": [
            "running install\n",
            "/usr/local/lib/python3.10/dist-packages/setuptools/_distutils/cmd.py:66: SetuptoolsDeprecationWarning: setup.py install is deprecated.\n",
            "!!\n",
            "\n",
            "        ********************************************************************************\n",
            "        Please avoid running ``setup.py`` directly.\n",
            "        Instead, use pypa/build, pypa/installer, pypa/build or\n",
            "        other standards-based tools.\n",
            "\n",
            "        See https://blog.ganssle.io/articles/2021/10/setup-py-deprecated.html for details.\n",
            "        ********************************************************************************\n",
            "\n",
            "!!\n",
            "  self.initialize_options()\n",
            "/usr/local/lib/python3.10/dist-packages/setuptools/_distutils/cmd.py:66: EasyInstallDeprecationWarning: easy_install command is deprecated.\n",
            "!!\n",
            "\n",
            "        ********************************************************************************\n",
            "        Please avoid running ``setup.py`` and ``easy_install``.\n",
            "        Instead, use pypa/build, pypa/installer, pypa/build or\n",
            "        other standards-based tools.\n",
            "\n",
            "        See https://github.com/pypa/setuptools/issues/917 for details.\n",
            "        ********************************************************************************\n",
            "\n",
            "!!\n",
            "  self.initialize_options()\n",
            "running bdist_egg\n",
            "running egg_info\n",
            "creating tensorvision.egg-info\n",
            "writing tensorvision.egg-info/PKG-INFO\n",
            "writing dependency_links to tensorvision.egg-info/dependency_links.txt\n",
            "writing requirements to tensorvision.egg-info/requires.txt\n",
            "writing top-level names to tensorvision.egg-info/top_level.txt\n",
            "writing manifest file 'tensorvision.egg-info/SOURCES.txt'\n",
            "reading manifest file 'tensorvision.egg-info/SOURCES.txt'\n",
            "adding license file 'LICENSE'\n",
            "writing manifest file 'tensorvision.egg-info/SOURCES.txt'\n",
            "installing library code to build/bdist.linux-x86_64/egg\n",
            "running install_lib\n",
            "running build_py\n",
            "creating build\n",
            "creating build/lib\n",
            "creating build/lib/tensorvision\n",
            "copying tensorvision/__init__.py -> build/lib/tensorvision\n",
            "copying tensorvision/analyze.py -> build/lib/tensorvision\n",
            "copying tensorvision/train.py -> build/lib/tensorvision\n",
            "copying tensorvision/utils.py -> build/lib/tensorvision\n",
            "copying tensorvision/continue.py -> build/lib/tensorvision\n",
            "copying tensorvision/core.py -> build/lib/tensorvision\n",
            "copying tensorvision/eval.py -> build/lib/tensorvision\n",
            "creating build/bdist.linux-x86_64\n",
            "creating build/bdist.linux-x86_64/egg\n",
            "creating build/bdist.linux-x86_64/egg/tensorvision\n",
            "copying build/lib/tensorvision/__init__.py -> build/bdist.linux-x86_64/egg/tensorvision\n",
            "copying build/lib/tensorvision/analyze.py -> build/bdist.linux-x86_64/egg/tensorvision\n",
            "copying build/lib/tensorvision/train.py -> build/bdist.linux-x86_64/egg/tensorvision\n",
            "copying build/lib/tensorvision/utils.py -> build/bdist.linux-x86_64/egg/tensorvision\n",
            "copying build/lib/tensorvision/continue.py -> build/bdist.linux-x86_64/egg/tensorvision\n",
            "copying build/lib/tensorvision/core.py -> build/bdist.linux-x86_64/egg/tensorvision\n",
            "copying build/lib/tensorvision/eval.py -> build/bdist.linux-x86_64/egg/tensorvision\n",
            "byte-compiling build/bdist.linux-x86_64/egg/tensorvision/__init__.py to __init__.cpython-310.pyc\n",
            "byte-compiling build/bdist.linux-x86_64/egg/tensorvision/analyze.py to analyze.cpython-310.pyc\n",
            "byte-compiling build/bdist.linux-x86_64/egg/tensorvision/train.py to train.cpython-310.pyc\n",
            "byte-compiling build/bdist.linux-x86_64/egg/tensorvision/utils.py to utils.cpython-310.pyc\n",
            "byte-compiling build/bdist.linux-x86_64/egg/tensorvision/continue.py to continue.cpython-310.pyc\n",
            "byte-compiling build/bdist.linux-x86_64/egg/tensorvision/core.py to core.cpython-310.pyc\n",
            "byte-compiling build/bdist.linux-x86_64/egg/tensorvision/eval.py to eval.cpython-310.pyc\n",
            "creating build/bdist.linux-x86_64/egg/EGG-INFO\n",
            "installing scripts to build/bdist.linux-x86_64/egg/EGG-INFO/scripts\n",
            "running install_scripts\n",
            "running build_scripts\n",
            "creating build/scripts-3.10\n",
            "copying and adjusting bin/tv-train -> build/scripts-3.10\n",
            "copying and adjusting bin/tv-analyze -> build/scripts-3.10\n",
            "copying and adjusting bin/tv-continue -> build/scripts-3.10\n",
            "changing mode of build/scripts-3.10/tv-train from 644 to 755\n",
            "changing mode of build/scripts-3.10/tv-analyze from 644 to 755\n",
            "changing mode of build/scripts-3.10/tv-continue from 644 to 755\n",
            "creating build/bdist.linux-x86_64/egg/EGG-INFO/scripts\n",
            "copying build/scripts-3.10/tv-continue -> build/bdist.linux-x86_64/egg/EGG-INFO/scripts\n",
            "copying build/scripts-3.10/tv-analyze -> build/bdist.linux-x86_64/egg/EGG-INFO/scripts\n",
            "copying build/scripts-3.10/tv-train -> build/bdist.linux-x86_64/egg/EGG-INFO/scripts\n",
            "changing mode of build/bdist.linux-x86_64/egg/EGG-INFO/scripts/tv-continue to 755\n",
            "changing mode of build/bdist.linux-x86_64/egg/EGG-INFO/scripts/tv-analyze to 755\n",
            "changing mode of build/bdist.linux-x86_64/egg/EGG-INFO/scripts/tv-train to 755\n",
            "copying tensorvision.egg-info/PKG-INFO -> build/bdist.linux-x86_64/egg/EGG-INFO\n",
            "copying tensorvision.egg-info/SOURCES.txt -> build/bdist.linux-x86_64/egg/EGG-INFO\n",
            "copying tensorvision.egg-info/dependency_links.txt -> build/bdist.linux-x86_64/egg/EGG-INFO\n",
            "copying tensorvision.egg-info/not-zip-safe -> build/bdist.linux-x86_64/egg/EGG-INFO\n",
            "copying tensorvision.egg-info/requires.txt -> build/bdist.linux-x86_64/egg/EGG-INFO\n",
            "copying tensorvision.egg-info/top_level.txt -> build/bdist.linux-x86_64/egg/EGG-INFO\n",
            "creating dist\n",
            "creating 'dist/tensorvision-0.1.dev1-py3.10.egg' and adding 'build/bdist.linux-x86_64/egg' to it\n",
            "removing 'build/bdist.linux-x86_64/egg' (and everything under it)\n",
            "Processing tensorvision-0.1.dev1-py3.10.egg\n",
            "creating /usr/local/lib/python3.10/dist-packages/tensorvision-0.1.dev1-py3.10.egg\n",
            "Extracting tensorvision-0.1.dev1-py3.10.egg to /usr/local/lib/python3.10/dist-packages\n",
            "Adding tensorvision 0.1.dev1 to easy-install.pth file\n",
            "Installing tv-continue script to /usr/local/bin\n",
            "Installing tv-analyze script to /usr/local/bin\n",
            "Installing tv-train script to /usr/local/bin\n",
            "\n",
            "Installed /usr/local/lib/python3.10/dist-packages/tensorvision-0.1.dev1-py3.10.egg\n",
            "Processing dependencies for tensorvision==0.1.dev1\n",
            "Searching for scipy==1.11.4\n",
            "Best match: scipy 1.11.4\n",
            "Adding scipy 1.11.4 to easy-install.pth file\n",
            "\n",
            "Using /usr/local/lib/python3.10/dist-packages\n",
            "Searching for numpy==1.23.5\n",
            "Best match: numpy 1.23.5\n",
            "Adding numpy 1.23.5 to easy-install.pth file\n",
            "Installing f2py script to /usr/local/bin\n",
            "Installing f2py3 script to /usr/local/bin\n",
            "Installing f2py3.10 script to /usr/local/bin\n",
            "\n",
            "Using /usr/local/lib/python3.10/dist-packages\n",
            "Finished processing dependencies for tensorvision==0.1.dev1\n"
          ]
        }
      ]
    },
    {
      "cell_type": "code",
      "source": [
        "import tensorflow as tf\n",
        "\n",
        "print(tf.__version__)\n"
      ],
      "metadata": {
        "colab": {
          "base_uri": "https://localhost:8080/"
        },
        "id": "J2pTo1mwR_dd",
        "outputId": "b0a4dfaa-58e6-497b-d405-506f74918ad7"
      },
      "execution_count": 9,
      "outputs": [
        {
          "output_type": "stream",
          "name": "stdout",
          "text": [
            "2.15.0\n"
          ]
        }
      ]
    },
    {
      "cell_type": "code",
      "source": [
        "cd /content/KittiSeg/"
      ],
      "metadata": {
        "colab": {
          "base_uri": "https://localhost:8080/"
        },
        "id": "vBZ8OatJSWBN",
        "outputId": "ae3f9985-9bab-4675-bd66-3e961d14721b"
      },
      "execution_count": 10,
      "outputs": [
        {
          "output_type": "stream",
          "name": "stdout",
          "text": [
            "/content/KittiSeg\n"
          ]
        }
      ]
    },
    {
      "cell_type": "code",
      "source": [
        "!python demo.py --input_image data/demo/demo.png"
      ],
      "metadata": {
        "colab": {
          "base_uri": "https://localhost:8080/"
        },
        "id": "sAdHx3AASnhE",
        "outputId": "61fb5b15-1ef6-4f9c-ffc3-f883481214ea"
      },
      "execution_count": 12,
      "outputs": [
        {
          "output_type": "stream",
          "name": "stdout",
          "text": [
            "2024-02-07 07:34:06.431993: E external/local_xla/xla/stream_executor/cuda/cuda_dnn.cc:9261] Unable to register cuDNN factory: Attempting to register factory for plugin cuDNN when one has already been registered\n",
            "2024-02-07 07:34:06.432045: E external/local_xla/xla/stream_executor/cuda/cuda_fft.cc:607] Unable to register cuFFT factory: Attempting to register factory for plugin cuFFT when one has already been registered\n",
            "2024-02-07 07:34:06.433188: E external/local_xla/xla/stream_executor/cuda/cuda_blas.cc:1515] Unable to register cuBLAS factory: Attempting to register factory for plugin cuBLAS when one has already been registered\n",
            "2024-02-07 07:34:07.384852: W tensorflow/compiler/tf2tensorrt/utils/py_utils.cc:38] TF-TRT Warning: Could not find TensorRT\n",
            "2024-02-07 07:34:08,473 INFO NumExpr defaulting to 2 threads.\n",
            "2024-02-07 07:34:08,875 INFO No environment variable 'TV_PLUGIN_DIR' found. Set to '/root/tv-plugins'.\n",
            "2024-02-07 07:34:08,876 INFO No environment variable 'TV_STEP_SHOW' found. Set to '50'.\n",
            "2024-02-07 07:34:08,876 INFO No environment variable 'TV_STEP_EVAL' found. Set to '250'.\n",
            "2024-02-07 07:34:08,876 INFO No environment variable 'TV_STEP_WRITE' found. Set to '1000'.\n",
            "2024-02-07 07:34:08,876 INFO No environment variable 'TV_MAX_KEEP' found. Set to '10'.\n",
            "2024-02-07 07:34:08,876 INFO No environment variable 'TV_STEP_STR' found. Set to 'Step {step}/{total_steps}: loss = {loss_value:.2f}; lr = {lr_value:.2e}; {sec_per_batch:.3f} sec (per Batch); {examples_per_sec:.1f} imgs/sec'.\n"
          ]
        }
      ]
    },
    {
      "cell_type": "code",
      "source": [
        "!python evaluate.py --logdir /content/KittiSeg/incl/tensorvision\n"
      ],
      "metadata": {
        "colab": {
          "base_uri": "https://localhost:8080/"
        },
        "id": "s1dTVJwyVH2c",
        "outputId": "446821da-19c3-4906-9dcc-500430a20661"
      },
      "execution_count": 20,
      "outputs": [
        {
          "output_type": "stream",
          "name": "stdout",
          "text": [
            "2024-02-07 07:59:08.524795: E external/local_xla/xla/stream_executor/cuda/cuda_dnn.cc:9261] Unable to register cuDNN factory: Attempting to register factory for plugin cuDNN when one has already been registered\n",
            "2024-02-07 07:59:08.524844: E external/local_xla/xla/stream_executor/cuda/cuda_fft.cc:607] Unable to register cuFFT factory: Attempting to register factory for plugin cuFFT when one has already been registered\n",
            "2024-02-07 07:59:08.526064: E external/local_xla/xla/stream_executor/cuda/cuda_blas.cc:1515] Unable to register cuBLAS factory: Attempting to register factory for plugin cuBLAS when one has already been registered\n",
            "2024-02-07 07:59:09.536779: W tensorflow/compiler/tf2tensorrt/utils/py_utils.cc:38] TF-TRT Warning: Could not find TensorRT\n",
            "WARNING:tensorflow:From /usr/local/lib/python3.10/dist-packages/tensorflow/python/compat/v2_compat.py:108: disable_resource_variables (from tensorflow.python.ops.variable_scope) is deprecated and will be removed in a future version.\n",
            "Instructions for updating:\n",
            "non-resource variables are not supported in the long term\n",
            "2024-02-07 07:59:10,984 WARNING From /usr/local/lib/python3.10/dist-packages/tensorflow/python/compat/v2_compat.py:108: disable_resource_variables (from tensorflow.python.ops.variable_scope) is deprecated and will be removed in a future version.\n",
            "Instructions for updating:\n",
            "non-resource variables are not supported in the long term\n",
            "2024-02-07 07:59:11,015 INFO No environment variable 'TV_PLUGIN_DIR' found. Set to '/root/tv-plugins'.\n",
            "2024-02-07 07:59:11,015 INFO No environment variable 'TV_STEP_SHOW' found. Set to '50'.\n",
            "2024-02-07 07:59:11,015 INFO No environment variable 'TV_STEP_EVAL' found. Set to '250'.\n",
            "2024-02-07 07:59:11,015 INFO No environment variable 'TV_STEP_WRITE' found. Set to '1000'.\n",
            "2024-02-07 07:59:11,015 INFO No environment variable 'TV_MAX_KEEP' found. Set to '10'.\n",
            "2024-02-07 07:59:11,015 INFO No environment variable 'TV_STEP_STR' found. Set to 'Step {step}/{total_steps}: loss = {loss_value:.2f}; lr = {lr_value:.2e}; {sec_per_batch:.3f} sec (per Batch); {examples_per_sec:.1f} imgs/sec'.\n",
            "2024-02-07 07:59:11,614 INFO f: <_io.TextIOWrapper name='hypes/KittiSeg.json' mode='r' encoding='UTF-8'>\n",
            "I0207 07:59:11.614882 132078089441280 evaluate.py:95] f: <_io.TextIOWrapper name='hypes/KittiSeg.json' mode='r' encoding='UTF-8'>\n",
            "2024-02-07 07:59:11,622 ERROR Data URL for Kitti Data not provided.\n",
            "E0207 07:59:11.622629 132078089441280 kitti_seg_input.py:67] Data URL for Kitti Data not provided.\n",
            "2024-02-07 07:59:11,622 ERROR Please visit: http://www.cvlibs.net/download.php?file=data_road.zip\n",
            "E0207 07:59:11.622788 132078089441280 kitti_seg_input.py:69] Please visit: http://www.cvlibs.net/download.php?file=data_road.zip\n",
            "2024-02-07 07:59:11,622 ERROR and request Kitti Download link.\n",
            "E0207 07:59:11.622877 132078089441280 kitti_seg_input.py:70] and request Kitti Download link.\n",
            "2024-02-07 07:59:11,622 ERROR Enter URL in hypes/kittiSeg.json\n",
            "E0207 07:59:11.622956 132078089441280 kitti_seg_input.py:71] Enter URL in hypes/kittiSeg.json\n"
          ]
        }
      ]
    },
    {
      "cell_type": "code",
      "source": [
        "!python train.py --hypes hypes/KittiSeg.json"
      ],
      "metadata": {
        "colab": {
          "base_uri": "https://localhost:8080/"
        },
        "id": "gUFtWt7Fb2Fa",
        "outputId": "c0fb3dee-3989-4414-ede3-f9b863c5014b"
      },
      "execution_count": 22,
      "outputs": [
        {
          "output_type": "stream",
          "name": "stdout",
          "text": [
            "2024-02-07 08:00:56.406237: E external/local_xla/xla/stream_executor/cuda/cuda_dnn.cc:9261] Unable to register cuDNN factory: Attempting to register factory for plugin cuDNN when one has already been registered\n",
            "2024-02-07 08:00:56.406288: E external/local_xla/xla/stream_executor/cuda/cuda_fft.cc:607] Unable to register cuFFT factory: Attempting to register factory for plugin cuFFT when one has already been registered\n",
            "2024-02-07 08:00:56.407477: E external/local_xla/xla/stream_executor/cuda/cuda_blas.cc:1515] Unable to register cuBLAS factory: Attempting to register factory for plugin cuBLAS when one has already been registered\n",
            "2024-02-07 08:00:57.714008: W tensorflow/compiler/tf2tensorrt/utils/py_utils.cc:38] TF-TRT Warning: Could not find TensorRT\n",
            "WARNING:tensorflow:From /usr/local/lib/python3.10/dist-packages/tensorflow/python/compat/v2_compat.py:108: disable_resource_variables (from tensorflow.python.ops.variable_scope) is deprecated and will be removed in a future version.\n",
            "Instructions for updating:\n",
            "non-resource variables are not supported in the long term\n",
            "2024-02-07 08:00:59,856 WARNING From /usr/local/lib/python3.10/dist-packages/tensorflow/python/compat/v2_compat.py:108: disable_resource_variables (from tensorflow.python.ops.variable_scope) is deprecated and will be removed in a future version.\n",
            "Instructions for updating:\n",
            "non-resource variables are not supported in the long term\n",
            "2024-02-07 08:00:59,889 INFO No environment variable 'TV_PLUGIN_DIR' found. Set to '/root/tv-plugins'.\n",
            "2024-02-07 08:00:59,889 INFO No environment variable 'TV_STEP_SHOW' found. Set to '50'.\n",
            "2024-02-07 08:00:59,889 INFO No environment variable 'TV_STEP_EVAL' found. Set to '250'.\n",
            "2024-02-07 08:00:59,889 INFO No environment variable 'TV_STEP_WRITE' found. Set to '1000'.\n",
            "2024-02-07 08:00:59,889 INFO No environment variable 'TV_MAX_KEEP' found. Set to '10'.\n",
            "2024-02-07 08:00:59,889 INFO No environment variable 'TV_STEP_STR' found. Set to 'Step {step}/{total_steps}: loss = {loss_value:.2f}; lr = {lr_value:.2e}; {sec_per_batch:.3f} sec (per Batch); {examples_per_sec:.1f} imgs/sec'.\n",
            "2024-02-07 08:00:59,958 INFO f: <_io.TextIOWrapper name='hypes/KittiSeg.json' mode='r' encoding='UTF-8'>\n",
            "I0207 08:00:59.958501 137292684615680 train.py:87] f: <_io.TextIOWrapper name='hypes/KittiSeg.json' mode='r' encoding='UTF-8'>\n",
            "2024-02-07 08:00:59,980 ERROR Data URL for Kitti Data not provided.\n",
            "E0207 08:00:59.980019 137292684615680 kitti_seg_input.py:67] Data URL for Kitti Data not provided.\n",
            "2024-02-07 08:00:59,980 ERROR Please visit: http://www.cvlibs.net/download.php?file=data_road.zip\n",
            "E0207 08:00:59.980181 137292684615680 kitti_seg_input.py:69] Please visit: http://www.cvlibs.net/download.php?file=data_road.zip\n",
            "2024-02-07 08:00:59,980 ERROR and request Kitti Download link.\n",
            "E0207 08:00:59.980263 137292684615680 kitti_seg_input.py:70] and request Kitti Download link.\n",
            "2024-02-07 08:00:59,980 ERROR Enter URL in hypes/kittiSeg.json\n",
            "E0207 08:00:59.980337 137292684615680 kitti_seg_input.py:71] Enter URL in hypes/kittiSeg.json\n"
          ]
        }
      ]
    }
  ]
}